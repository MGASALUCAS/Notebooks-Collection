{
  "cells": [
    {
      "cell_type": "markdown",
      "metadata": {
        "id": "view-in-github",
        "colab_type": "text"
      },
      "source": [
        "<a href=\"https://colab.research.google.com/github/MGASALUCAS/Notebooks-Collection/blob/main/GIZ_Biomass_Starter_Notebook.ipynb\" target=\"_parent\"><img src=\"https://colab.research.google.com/assets/colab-badge.svg\" alt=\"Open In Colab\"/></a>"
      ]
    },
    {
      "cell_type": "markdown",
      "metadata": {
        "id": "28R01eNOra9X"
      },
      "source": [
        "In this notebook, we will show you the differents steps to train step by step dly your model in this competition."
      ]
    },
    {
      "cell_type": "markdown",
      "metadata": {
        "id": "BiF5fKp2Qv1d"
      },
      "source": [
        "# Images Extractions"
      ]
    },
    {
      "cell_type": "code",
      "execution_count": null,
      "metadata": {
        "id": "ghyAh0w20yIH"
      },
      "outputs": [],
      "source": [
        "import h5py\n",
        "import matplotlib.pyplot as plt\n",
        "import pandas as pd\n",
        "import numpy as np\n",
        "import warnings\n",
        "warnings.filterwarnings('ignore')"
      ]
    },
    {
      "cell_type": "code",
      "execution_count": null,
      "metadata": {
        "id": "FSbBd9XiQ5q5"
      },
      "outputs": [],
      "source": [
        "!wget -q  https://share.phys.ethz.ch/~pf/albecker/abc/09072022_1154_train.h5\n",
        "!wget -q  https://share.phys.ethz.ch/~pf/albecker/abc/09072022_1154_val.h5\n",
        "!wget -q https://share.phys.ethz.ch/~pf/albecker/abc/09072022_1154_test.h5"
      ]
    },
    {
      "cell_type": "code",
      "execution_count": null,
      "metadata": {
        "id": "qrdZGhqoJdDb"
      },
      "outputs": [],
      "source": [
        "!wget -q https://www.youtube.com/watch?v=kdk68VbXr4A"
      ]
    },
    {
      "cell_type": "code",
      "execution_count": null,
      "metadata": {
        "id": "k3ZQRlZOQ65B"
      },
      "outputs": [],
      "source": [
        "trainset = h5py.File(\"09072022_1154_train.h5\", \"r\")\n",
        "validateset = h5py.File(\"09072022_1154_val.h5\", \"r\")\n",
        "testset = h5py.File(\"09072022_1154_test.h5\", \"r\")"
      ]
    },
    {
      "cell_type": "code",
      "execution_count": null,
      "metadata": {
        "colab": {
          "base_uri": "https://localhost:8080/"
        },
        "id": "sQnKRSw9RDu6",
        "outputId": "6f44396d-aabe-478c-c68d-105653155216"
      },
      "outputs": [
        {
          "data": {
            "text/plain": [
              "<KeysViewHDF5 ['agbd', 'cloud', 'images', 'lat', 'lon', 'scl']>"
            ]
          },
          "execution_count": 5,
          "metadata": {},
          "output_type": "execute_result"
        }
      ],
      "source": [
        "# attributes of trainset\n",
        "trainset.keys()"
      ]
    },
    {
      "cell_type": "markdown",
      "metadata": {
        "id": "2rKhoGtGR1Xu"
      },
      "source": [
        "## Explore datasets"
      ]
    },
    {
      "cell_type": "code",
      "execution_count": null,
      "metadata": {
        "id": "YgOvKhevSGNV"
      },
      "outputs": [],
      "source": [
        "# train\n",
        "train_images = np.array(trainset['images'],dtype=np.float64)\n",
        "train_images = train_images.transpose(0,3,1,2)\n",
        "\n",
        "train_biomasses = np.array(trainset['agbd'],dtype=np.float64)\n",
        "\n",
        "# validate\n",
        "validate_images = np.array(validateset['images'],dtype=np.float64)\n",
        "validate_images = validate_images.transpose(0,3,1,2)\n",
        "validate_biomasses = np.array(validateset['agbd'],dtype=np.float64)\n",
        "\n",
        "# test \n",
        "test_images = np.array(testset['images'],dtype=np.float32)\n",
        "test_images = test_images.transpose(0,3,1,2)\n",
        "test_biomasses = np.array(testset['agbd'],dtype=np.float32)"
      ]
    },
    {
      "cell_type": "code",
      "source": [],
      "metadata": {
        "id": "NF_6KEQLjk68"
      },
      "execution_count": null,
      "outputs": []
    },
    {
      "cell_type": "code",
      "execution_count": 32,
      "metadata": {
        "colab": {
          "base_uri": "https://localhost:8080/"
        },
        "id": "Ps-9IeIgSJ4w",
        "outputId": "28b4905e-a248-478b-da8b-b12b5c8375bf"
      },
      "outputs": [
        {
          "output_type": "stream",
          "name": "stdout",
          "text": [
            "train dataset size (25036, 12, 15, 15) train lab size (25036,)\n",
            "\n",
            "validate dataset size (5174, 12, 15, 15) validate lab size (5174,)\n",
            "\n",
            "test dataset size (5190, 12, 15, 15) test lab size (5190,)\n"
          ]
        }
      ],
      "source": [
        "print(f\"train dataset size {train_images.shape} train lab size {train_biomasses.shape}\")\n",
        "print()\n",
        "print(f\"validate dataset size {validate_images.shape} validate lab size {validate_biomasses.shape}\")\n",
        "print()\n",
        "print(f\"test dataset size {test_images.shape} test lab size {test_biomasses.shape}\")"
      ]
    },
    {
      "cell_type": "code",
      "source": [
        "from xgboost import XGBRegressor\n",
        "from sklearn.metrics import mean_squared_error\n",
        "\n",
        "# reshape input data into a 2-dimensional matrix\n",
        "train_images = train_images.reshape(train_images.shape[0], -1)\n",
        "test_images = test_images.reshape(test_images.shape[0], -1)\n",
        "\n",
        "# create a XGBoost regressor instance\n",
        "xgb = XGBRegressor()\n",
        "\n",
        "# fit the model on training data\n",
        "xgb.fit(train_images, train_biomasses)\n",
        "\n",
        "# use the trained model to make predictions on test data\n",
        "y_pred = xgb.predict(test_images)\n",
        "\n"
      ],
      "metadata": {
        "id": "FTpOJWCfjtiN"
      },
      "execution_count": 36,
      "outputs": []
    },
    {
      "cell_type": "code",
      "source": [
        "# calculate mean squared error of the predictions\n",
        "mse = mean_squared_error(test_biomasses, y_pred)\n",
        "print(\"Mean squared error:\", mse)"
      ],
      "metadata": {
        "colab": {
          "base_uri": "https://localhost:8080/"
        },
        "id": "aG1Nj89TnIVN",
        "outputId": "bf485972-78eb-4447-bca3-7126b484a97f"
      },
      "execution_count": 37,
      "outputs": [
        {
          "output_type": "stream",
          "name": "stdout",
          "text": [
            "Mean squared error: 3797.8682\n"
          ]
        }
      ]
    },
    {
      "cell_type": "code",
      "source": [
        "# predict\n",
        "pred = xgb.predict(validate_images)\n",
        "\n",
        "# validate mse error\n",
        "mse = mean_squared_error(validate_biomasses, pred) \n",
        "rmse = np.sqrt(mse)\n",
        "\n",
        "print(mse, rmse)"
      ],
      "metadata": {
        "colab": {
          "base_uri": "https://localhost:8080/",
          "height": 397
        },
        "id": "nlmOZciErDK5",
        "outputId": "f308f55c-78e6-4b60-f4ff-bbf4ab357cab"
      },
      "execution_count": 40,
      "outputs": [
        {
          "output_type": "error",
          "ename": "ValueError",
          "evalue": "ignored",
          "traceback": [
            "\u001b[0;31m---------------------------------------------------------------------------\u001b[0m",
            "\u001b[0;31mValueError\u001b[0m                                Traceback (most recent call last)",
            "\u001b[0;32m<ipython-input-40-870286d1fe8c>\u001b[0m in \u001b[0;36m<cell line: 2>\u001b[0;34m()\u001b[0m\n\u001b[1;32m      1\u001b[0m \u001b[0;31m# predict\u001b[0m\u001b[0;34m\u001b[0m\u001b[0;34m\u001b[0m\u001b[0m\n\u001b[0;32m----> 2\u001b[0;31m \u001b[0mpred\u001b[0m \u001b[0;34m=\u001b[0m \u001b[0mxgb\u001b[0m\u001b[0;34m.\u001b[0m\u001b[0mpredict\u001b[0m\u001b[0;34m(\u001b[0m\u001b[0mvalidate_images\u001b[0m\u001b[0;34m)\u001b[0m\u001b[0;34m\u001b[0m\u001b[0;34m\u001b[0m\u001b[0m\n\u001b[0m\u001b[1;32m      3\u001b[0m \u001b[0;34m\u001b[0m\u001b[0m\n\u001b[1;32m      4\u001b[0m \u001b[0;31m# validate mse error\u001b[0m\u001b[0;34m\u001b[0m\u001b[0;34m\u001b[0m\u001b[0m\n\u001b[1;32m      5\u001b[0m \u001b[0mmse\u001b[0m \u001b[0;34m=\u001b[0m \u001b[0mmean_squared_error\u001b[0m\u001b[0;34m(\u001b[0m\u001b[0mvalidate_biomasses\u001b[0m\u001b[0;34m,\u001b[0m \u001b[0mpred\u001b[0m\u001b[0;34m)\u001b[0m\u001b[0;34m\u001b[0m\u001b[0;34m\u001b[0m\u001b[0m\n",
            "\u001b[0;32m/usr/local/lib/python3.10/dist-packages/xgboost/sklearn.py\u001b[0m in \u001b[0;36mpredict\u001b[0;34m(self, X, output_margin, ntree_limit, validate_features, base_margin, iteration_range)\u001b[0m\n\u001b[1;32m   1112\u001b[0m             \u001b[0;32mif\u001b[0m \u001b[0mself\u001b[0m\u001b[0;34m.\u001b[0m\u001b[0m_can_use_inplace_predict\u001b[0m\u001b[0;34m(\u001b[0m\u001b[0;34m)\u001b[0m\u001b[0;34m:\u001b[0m\u001b[0;34m\u001b[0m\u001b[0;34m\u001b[0m\u001b[0m\n\u001b[1;32m   1113\u001b[0m                 \u001b[0;32mtry\u001b[0m\u001b[0;34m:\u001b[0m\u001b[0;34m\u001b[0m\u001b[0;34m\u001b[0m\u001b[0m\n\u001b[0;32m-> 1114\u001b[0;31m                     predts = self.get_booster().inplace_predict(\n\u001b[0m\u001b[1;32m   1115\u001b[0m                         \u001b[0mdata\u001b[0m\u001b[0;34m=\u001b[0m\u001b[0mX\u001b[0m\u001b[0;34m,\u001b[0m\u001b[0;34m\u001b[0m\u001b[0;34m\u001b[0m\u001b[0m\n\u001b[1;32m   1116\u001b[0m                         \u001b[0miteration_range\u001b[0m\u001b[0;34m=\u001b[0m\u001b[0miteration_range\u001b[0m\u001b[0;34m,\u001b[0m\u001b[0;34m\u001b[0m\u001b[0;34m\u001b[0m\u001b[0m\n",
            "\u001b[0;32m/usr/local/lib/python3.10/dist-packages/xgboost/core.py\u001b[0m in \u001b[0;36minplace_predict\u001b[0;34m(self, data, iteration_range, predict_type, missing, validate_features, base_margin, strict_shape)\u001b[0m\n\u001b[1;32m   2267\u001b[0m                 )\n\u001b[1;32m   2268\u001b[0m             \u001b[0;32mif\u001b[0m \u001b[0mlen\u001b[0m\u001b[0;34m(\u001b[0m\u001b[0mdata\u001b[0m\u001b[0;34m.\u001b[0m\u001b[0mshape\u001b[0m\u001b[0;34m)\u001b[0m \u001b[0;34m!=\u001b[0m \u001b[0;36m1\u001b[0m \u001b[0;32mand\u001b[0m \u001b[0mself\u001b[0m\u001b[0;34m.\u001b[0m\u001b[0mnum_features\u001b[0m\u001b[0;34m(\u001b[0m\u001b[0;34m)\u001b[0m \u001b[0;34m!=\u001b[0m \u001b[0mdata\u001b[0m\u001b[0;34m.\u001b[0m\u001b[0mshape\u001b[0m\u001b[0;34m[\u001b[0m\u001b[0;36m1\u001b[0m\u001b[0;34m]\u001b[0m\u001b[0;34m:\u001b[0m\u001b[0;34m\u001b[0m\u001b[0;34m\u001b[0m\u001b[0m\n\u001b[0;32m-> 2269\u001b[0;31m                 raise ValueError(\n\u001b[0m\u001b[1;32m   2270\u001b[0m                     \u001b[0;34mf\"Feature shape mismatch, expected: {self.num_features()}, \"\u001b[0m\u001b[0;34m\u001b[0m\u001b[0;34m\u001b[0m\u001b[0m\n\u001b[1;32m   2271\u001b[0m                     \u001b[0;34mf\"got {data.shape[1]}\"\u001b[0m\u001b[0;34m\u001b[0m\u001b[0;34m\u001b[0m\u001b[0m\n",
            "\u001b[0;31mValueError\u001b[0m: Feature shape mismatch, expected: 2700, got 12"
          ]
        }
      ]
    },
    {
      "cell_type": "code",
      "source": [
        "#prepare test set sentinel 2 images \n",
        "s2_images = np.array(s2_images_h5[\"images\"])\n",
        "s2_images = s2_images.transpose(0,3,1,2)\n",
        "\n",
        "# predict on giz test data\n",
        "pred_giz = xgb.predict(s2_images)\n",
        "\n",
        "ID_S2_pair = pd.read_csv('UniqueID-SentinelPair.csv')\n",
        "\n",
        "preds = pd.DataFrame({'Target':pred_giz}).rename_axis('S2_idx').reset_index()\n",
        "preds = ID_S2_pair.merge(preds, on='S2_idx').drop(columns=['S2_idx'])\n",
        "\n",
        "preds.to_csv('GIZ_Biomass_predictions.csv', index=False)\n",
        "\n",
        "preds"
      ],
      "metadata": {
        "colab": {
          "base_uri": "https://localhost:8080/",
          "height": 397
        },
        "id": "8IkIyBeFqYM3",
        "outputId": "7679c717-3b60-4ccd-b8c3-59233681e634"
      },
      "execution_count": 38,
      "outputs": [
        {
          "output_type": "error",
          "ename": "ValueError",
          "evalue": "ignored",
          "traceback": [
            "\u001b[0;31m---------------------------------------------------------------------------\u001b[0m",
            "\u001b[0;31mValueError\u001b[0m                                Traceback (most recent call last)",
            "\u001b[0;32m<ipython-input-38-79b7e3255d15>\u001b[0m in \u001b[0;36m<cell line: 6>\u001b[0;34m()\u001b[0m\n\u001b[1;32m      4\u001b[0m \u001b[0;34m\u001b[0m\u001b[0m\n\u001b[1;32m      5\u001b[0m \u001b[0;31m# predict on giz test data\u001b[0m\u001b[0;34m\u001b[0m\u001b[0;34m\u001b[0m\u001b[0m\n\u001b[0;32m----> 6\u001b[0;31m \u001b[0mpred_giz\u001b[0m \u001b[0;34m=\u001b[0m \u001b[0mxgb\u001b[0m\u001b[0;34m.\u001b[0m\u001b[0mpredict\u001b[0m\u001b[0;34m(\u001b[0m\u001b[0ms2_images\u001b[0m\u001b[0;34m)\u001b[0m\u001b[0;34m\u001b[0m\u001b[0;34m\u001b[0m\u001b[0m\n\u001b[0m\u001b[1;32m      7\u001b[0m \u001b[0;34m\u001b[0m\u001b[0m\n\u001b[1;32m      8\u001b[0m \u001b[0mID_S2_pair\u001b[0m \u001b[0;34m=\u001b[0m \u001b[0mpd\u001b[0m\u001b[0;34m.\u001b[0m\u001b[0mread_csv\u001b[0m\u001b[0;34m(\u001b[0m\u001b[0;34m'UniqueID-SentinelPair.csv'\u001b[0m\u001b[0;34m)\u001b[0m\u001b[0;34m\u001b[0m\u001b[0;34m\u001b[0m\u001b[0m\n",
            "\u001b[0;32m/usr/local/lib/python3.10/dist-packages/xgboost/sklearn.py\u001b[0m in \u001b[0;36mpredict\u001b[0;34m(self, X, output_margin, ntree_limit, validate_features, base_margin, iteration_range)\u001b[0m\n\u001b[1;32m   1112\u001b[0m             \u001b[0;32mif\u001b[0m \u001b[0mself\u001b[0m\u001b[0;34m.\u001b[0m\u001b[0m_can_use_inplace_predict\u001b[0m\u001b[0;34m(\u001b[0m\u001b[0;34m)\u001b[0m\u001b[0;34m:\u001b[0m\u001b[0;34m\u001b[0m\u001b[0;34m\u001b[0m\u001b[0m\n\u001b[1;32m   1113\u001b[0m                 \u001b[0;32mtry\u001b[0m\u001b[0;34m:\u001b[0m\u001b[0;34m\u001b[0m\u001b[0;34m\u001b[0m\u001b[0m\n\u001b[0;32m-> 1114\u001b[0;31m                     predts = self.get_booster().inplace_predict(\n\u001b[0m\u001b[1;32m   1115\u001b[0m                         \u001b[0mdata\u001b[0m\u001b[0;34m=\u001b[0m\u001b[0mX\u001b[0m\u001b[0;34m,\u001b[0m\u001b[0;34m\u001b[0m\u001b[0;34m\u001b[0m\u001b[0m\n\u001b[1;32m   1116\u001b[0m                         \u001b[0miteration_range\u001b[0m\u001b[0;34m=\u001b[0m\u001b[0miteration_range\u001b[0m\u001b[0;34m,\u001b[0m\u001b[0;34m\u001b[0m\u001b[0;34m\u001b[0m\u001b[0m\n",
            "\u001b[0;32m/usr/local/lib/python3.10/dist-packages/xgboost/core.py\u001b[0m in \u001b[0;36minplace_predict\u001b[0;34m(self, data, iteration_range, predict_type, missing, validate_features, base_margin, strict_shape)\u001b[0m\n\u001b[1;32m   2267\u001b[0m                 )\n\u001b[1;32m   2268\u001b[0m             \u001b[0;32mif\u001b[0m \u001b[0mlen\u001b[0m\u001b[0;34m(\u001b[0m\u001b[0mdata\u001b[0m\u001b[0;34m.\u001b[0m\u001b[0mshape\u001b[0m\u001b[0;34m)\u001b[0m \u001b[0;34m!=\u001b[0m \u001b[0;36m1\u001b[0m \u001b[0;32mand\u001b[0m \u001b[0mself\u001b[0m\u001b[0;34m.\u001b[0m\u001b[0mnum_features\u001b[0m\u001b[0;34m(\u001b[0m\u001b[0;34m)\u001b[0m \u001b[0;34m!=\u001b[0m \u001b[0mdata\u001b[0m\u001b[0;34m.\u001b[0m\u001b[0mshape\u001b[0m\u001b[0;34m[\u001b[0m\u001b[0;36m1\u001b[0m\u001b[0;34m]\u001b[0m\u001b[0;34m:\u001b[0m\u001b[0;34m\u001b[0m\u001b[0;34m\u001b[0m\u001b[0m\n\u001b[0;32m-> 2269\u001b[0;31m                 raise ValueError(\n\u001b[0m\u001b[1;32m   2270\u001b[0m                     \u001b[0;34mf\"Feature shape mismatch, expected: {self.num_features()}, \"\u001b[0m\u001b[0;34m\u001b[0m\u001b[0;34m\u001b[0m\u001b[0m\n\u001b[1;32m   2271\u001b[0m                     \u001b[0;34mf\"got {data.shape[1]}\"\u001b[0m\u001b[0;34m\u001b[0m\u001b[0;34m\u001b[0m\u001b[0m\n",
            "\u001b[0;31mValueError\u001b[0m: Feature shape mismatch, expected: 2700, got 12"
          ]
        }
      ]
    },
    {
      "cell_type": "code",
      "source": [],
      "metadata": {
        "id": "Sxi-L9GHqYqV"
      },
      "execution_count": null,
      "outputs": []
    },
    {
      "cell_type": "markdown",
      "metadata": {
        "id": "zNdh9lMISRdZ"
      },
      "source": [
        "##  Some visulizations"
      ]
    },
    {
      "cell_type": "code",
      "execution_count": null,
      "metadata": {
        "colab": {
          "base_uri": "https://localhost:8080/",
          "height": 447
        },
        "id": "fp5UpiavSMqn",
        "outputId": "7fc225c5-7c89-4e67-abff-cb24f91c87cb"
      },
      "outputs": [
        {
          "data": {
            "text/plain": [
              "<matplotlib.image.AxesImage at 0x7fa60b7cea70>"
            ]
          },
          "execution_count": 8,
          "metadata": {},
          "output_type": "execute_result"
        },
        {
          "data": {
            "image/png": "[encoded data removed]",
            "text/plain": [
              "<Figure size 640x480 with 1 Axes>"
            ]
          },
          "metadata": {},
          "output_type": "display_data"
        }
      ],
      "source": [
        "plt.imshow(train_images[1,1,:,:])"
      ]
    },
    {
      "cell_type": "code",
      "execution_count": null,
      "metadata": {
        "colab": {
          "base_uri": "https://localhost:8080/"
        },
        "id": "TAFde--LSZR5",
        "outputId": "f0291178-1b99-4ec6-d836-39da5af35192"
      },
      "outputs": [
        {
          "data": {
            "text/plain": [
              "99.10187530517578"
            ]
          },
          "execution_count": 9,
          "metadata": {},
          "output_type": "execute_result"
        }
      ],
      "source": [
        "train_biomasses[1]"
      ]
    },
    {
      "cell_type": "markdown",
      "metadata": {
        "id": "ffXv4PbxI5QS"
      },
      "source": [
        " **Below we explore the skewness of train dataset in each channel**"
      ]
    },
    {
      "cell_type": "code",
      "execution_count": null,
      "metadata": {
        "id": "CrCKjC-mSmJm"
      },
      "outputs": [],
      "source": [
        "band_skewness = []\n",
        "band_skewness_after_sqrt = []\n",
        "for c in range(12):\n",
        "    #calculate skewness\n",
        "    band_skewness.append(pd.Series(train_images[:,c].flatten()).skew())\n",
        "    #calculate skewness after applying sqrt\n",
        "    band_skewness_after_sqrt.append(pd.Series(np.sqrt(train_images[:,c].flatten())).skew())"
      ]
    },
    {
      "cell_type": "code",
      "execution_count": null,
      "metadata": {
        "colab": {
          "base_uri": "https://localhost:8080/",
          "height": 449
        },
        "id": "mQuF1liYSppT",
        "outputId": "d21220fd-4c7c-4093-846f-27af3232297b"
      },
      "outputs": [
        {
          "data": {
            "image/png": "[encoded data removed]",
            "text/plain": [
              "<Figure size 640x480 with 1 Axes>"
            ]
          },
          "metadata": {},
          "output_type": "display_data"
        }
      ],
      "source": [
        "# skweness\n",
        "width = 0.25\n",
        "\n",
        "rng = [i for i in range(0,12)]\n",
        "rng2 = [i+width for i in range(0,12)]\n",
        "\n",
        "plt.bar(rng, band_skewness, align='center', width = width, label='Original', color ='b')\n",
        "plt.bar(rng2, band_skewness_after_sqrt, align='center', width = width, label='After sqrt', color ='g')\n",
        "plt.gca().set_xticks(rng)\n",
        "plt.legend()\n",
        "plt.xlabel('Band ID')\n",
        "plt.ylabel('Skewness')\n",
        "plt.show()"
      ]
    },
    {
      "cell_type": "markdown",
      "metadata": {
        "id": "SYkqo_nDQlzS"
      },
      "source": [
        "# First Baseline With Sklearn"
      ]
    },
    {
      "cell_type": "code",
      "execution_count": null,
      "metadata": {
        "id": "is7xLI-1VzAW"
      },
      "outputs": [],
      "source": [
        "from sklearn.linear_model import LinearRegression,Ridge,Lasso\n",
        "from sklearn.svm import LinearSVR\n",
        "import xgboost\n",
        "from sklearn.neighbors import KNeighborsRegressor\n",
        "from sklearn.ensemble import RandomForestRegressor, GradientBoostingRegressor\n",
        "from sklearn.model_selection import GridSearchCV\n",
        "from sklearn.pipeline import Pipeline\n",
        "from sklearn.metrics import mean_squared_error\n",
        "from sklearn import model_selection\n",
        "from sklearn.compose import ColumnTransformer\n",
        "from sklearn.impute import SimpleImputer\n",
        "from sklearn.preprocessing import StandardScaler\n",
        "from sklearn.base import BaseEstimator, TransformerMixin"
      ]
    },
    {
      "cell_type": "code",
      "execution_count": null,
      "metadata": {
        "id": "t54SAWW6pr1S"
      },
      "outputs": [],
      "source": [
        "from sklearn import set_config\n",
        "set_config(display='diagram')"
      ]
    },
    {
      "cell_type": "markdown",
      "metadata": {
        "id": "PVAxS2EwqKiW"
      },
      "source": [
        "## Modelisation"
      ]
    },
    {
      "cell_type": "markdown",
      "metadata": {
        "id": "wtNBm3d1qM1x"
      },
      "source": [
        "### Pipeline of training"
      ]
    },
    {
      "cell_type": "code",
      "execution_count": null,
      "metadata": {
        "id": "T3OrinVvV3-8"
      },
      "outputs": [],
      "source": [
        "# constante for standardization\n",
        "MEAN = train_images.mean((0,2,3))\n",
        "STD = train_images.std((0,2,3))"
      ]
    },
    {
      "cell_type": "code",
      "execution_count": null,
      "metadata": {
        "id": "FC2Gb-3cQDcO"
      },
      "outputs": [],
      "source": [
        "class CustomScaler(BaseEstimator, TransformerMixin):\n",
        "  def __init__(self,mean,std):\n",
        "    self.mean = mean\n",
        "    self.std = std\n",
        "  \n",
        "  def fit(self, X, y=None):\n",
        "    #self.mean = X.mean((0,2,3)) \n",
        "    #self.std = X.std((0,2,3))\n",
        "    return self\n",
        "\n",
        "  def transform(self, X, y=None):\n",
        "    return (X-self.mean[None,:,None,None])/self.std[None,:,None,None] \n",
        "\n",
        "    \n",
        "class FlattenTransformer(BaseEstimator, TransformerMixin):\n",
        "\n",
        "  def fit(self, X, y=None):\n",
        "    return self\n",
        "\n",
        "  def transform(self, X, y=None):\n",
        "    return X.reshape((X.shape[0], -1))\n",
        "\n",
        "\n",
        "pipe = Pipeline(steps=[(\"scaler\", CustomScaler(MEAN,STD)),\n",
        "                       (\"flatten\", FlattenTransformer()),\n",
        "                       (\"classifier\", Lasso())\n",
        "])"
      ]
    },
    {
      "cell_type": "code",
      "execution_count": null,
      "metadata": {
        "colab": {
          "base_uri": "https://localhost:8080/",
          "height": 159
        },
        "id": "Ii56ZHoXmx5p",
        "outputId": "25b1a631-75d6-4f80-cbe5-faa8e4c158fe"
      },
      "outputs": [
        {
          "data": {
            "text/html": [
              "<style>#sk-container-id-1 {color: black;background-color: white;}#sk-container-id-1 pre{padding: 0;}#sk-container-id-1 div.sk-toggleable {background-color: white;}#sk-container-id-1 label.sk-toggleable__label {cursor: pointer;display: block;width: 100%;margin-bottom: 0;padding: 0.3em;box-sizing: border-box;text-align: center;}#sk-container-id-1 label.sk-toggleable__label-arrow:before {content: \"▸\";float: left;margin-right: 0.25em;color: #696969;}#sk-container-id-1 label.sk-toggleable__label-arrow:hover:before {color: black;}#sk-container-id-1 div.sk-estimator:hover label.sk-toggleable__label-arrow:before {color: black;}#sk-container-id-1 div.sk-toggleable__content {max-height: 0;max-width: 0;overflow: hidden;text-align: left;background-color: #f0f8ff;}#sk-container-id-1 div.sk-toggleable__content pre {margin: 0.2em;color: black;border-radius: 0.25em;background-color: #f0f8ff;}#sk-container-id-1 input.sk-toggleable__control:checked~div.sk-toggleable__content {max-height: 200px;max-width: 100%;overflow: auto;}#sk-container-id-1 input.sk-toggleable__control:checked~label.sk-toggleable__label-arrow:before {content: \"▾\";}#sk-container-id-1 div.sk-estimator input.sk-toggleable__control:checked~label.sk-toggleable__label {background-color: #d4ebff;}#sk-container-id-1 div.sk-label input.sk-toggleable__control:checked~label.sk-toggleable__label {background-color: #d4ebff;}#sk-container-id-1 input.sk-hidden--visually {border: 0;clip: rect(1px 1px 1px 1px);clip: rect(1px, 1px, 1px, 1px);height: 1px;margin: -1px;overflow: hidden;padding: 0;position: absolute;width: 1px;}#sk-container-id-1 div.sk-estimator {font-family: monospace;background-color: #f0f8ff;border: 1px dotted black;border-radius: 0.25em;box-sizing: border-box;margin-bottom: 0.5em;}#sk-container-id-1 div.sk-estimator:hover {background-color: #d4ebff;}#sk-container-id-1 div.sk-parallel-item::after {content: \"\";width: 100%;border-bottom: 1px solid gray;flex-grow: 1;}#sk-container-id-1 div.sk-label:hover label.sk-toggleable__label {background-color: #d4ebff;}#sk-container-id-1 div.sk-serial::before {content: \"\";position: absolute;border-left: 1px solid gray;box-sizing: border-box;top: 0;bottom: 0;left: 50%;z-index: 0;}#sk-container-id-1 div.sk-serial {display: flex;flex-direction: column;align-items: center;background-color: white;padding-right: 0.2em;padding-left: 0.2em;position: relative;}#sk-container-id-1 div.sk-item {position: relative;z-index: 1;}#sk-container-id-1 div.sk-parallel {display: flex;align-items: stretch;justify-content: center;background-color: white;position: relative;}#sk-container-id-1 div.sk-item::before, #sk-container-id-1 div.sk-parallel-item::before {content: \"\";position: absolute;border-left: 1px solid gray;box-sizing: border-box;top: 0;bottom: 0;left: 50%;z-index: -1;}#sk-container-id-1 div.sk-parallel-item {display: flex;flex-direction: column;z-index: 1;position: relative;background-color: white;}#sk-container-id-1 div.sk-parallel-item:first-child::after {align-self: flex-end;width: 50%;}#sk-container-id-1 div.sk-parallel-item:last-child::after {align-self: flex-start;width: 50%;}#sk-container-id-1 div.sk-parallel-item:only-child::after {width: 0;}#sk-container-id-1 div.sk-dashed-wrapped {border: 1px dashed gray;margin: 0 0.4em 0.5em 0.4em;box-sizing: border-box;padding-bottom: 0.4em;background-color: white;}#sk-container-id-1 div.sk-label label {font-family: monospace;font-weight: bold;display: inline-block;line-height: 1.2em;}#sk-container-id-1 div.sk-label-container {text-align: center;}#sk-container-id-1 div.sk-container {/* jupyter's `normalize.less` sets `[hidden] { display: none; }` but bootstrap.min.css set `[hidden] { display: none !important; }` so we also need the `!important` here to be able to override the default hidden behavior on the sphinx rendered scikit-learn.org. See: https://github.com/scikit-learn/scikit-learn/issues/21755 */display: inline-block !important;position: relative;}#sk-container-id-1 div.sk-text-repr-fallback {display: none;}</style><div id=\"sk-container-id-1\" class=\"sk-top-container\"><div class=\"sk-text-repr-fallback\"><pre>Pipeline(steps=[(&#x27;scaler&#x27;,\n",
              "                 CustomScaler(mean=array([ 644.62522678,  675.00465197,  887.51322647,  649.01398076,\n",
              "       1230.65511708, 3005.58275568, 3717.91194245, 3626.2871387 ,\n",
              "       3999.28166498, 4109.51322682, 2262.52644121, 1253.58153468]),\n",
              "                              std=array([ 575.97684675,  570.30180631,  536.11125314,  550.22417005,\n",
              "        557.76750885,  777.03590322,  935.15224447,  949.36012986,\n",
              "        988.61001558, 1096.67397739,  671.68692054,  590.6012704 ]))),\n",
              "                (&#x27;flatten&#x27;, FlattenTransformer()), (&#x27;classifier&#x27;, Lasso())])</pre><b>In a Jupyter environment, please rerun this cell to show the HTML representation or trust the notebook. <br />On GitHub, the HTML representation is unable to render, please try loading this page with nbviewer.org.</b></div><div class=\"sk-container\" hidden><div class=\"sk-item sk-dashed-wrapped\"><div class=\"sk-label-container\"><div class=\"sk-label sk-toggleable\"><input class=\"sk-toggleable__control sk-hidden--visually\" id=\"sk-estimator-id-1\" type=\"checkbox\" ><label for=\"sk-estimator-id-1\" class=\"sk-toggleable__label sk-toggleable__label-arrow\">Pipeline</label><div class=\"sk-toggleable__content\"><pre>Pipeline(steps=[(&#x27;scaler&#x27;,\n",
              "                 CustomScaler(mean=array([ 644.62522678,  675.00465197,  887.51322647,  649.01398076,\n",
              "       1230.65511708, 3005.58275568, 3717.91194245, 3626.2871387 ,\n",
              "       3999.28166498, 4109.51322682, 2262.52644121, 1253.58153468]),\n",
              "                              std=array([ 575.97684675,  570.30180631,  536.11125314,  550.22417005,\n",
              "        557.76750885,  777.03590322,  935.15224447,  949.36012986,\n",
              "        988.61001558, 1096.67397739,  671.68692054,  590.6012704 ]))),\n",
              "                (&#x27;flatten&#x27;, FlattenTransformer()), (&#x27;classifier&#x27;, Lasso())])</pre></div></div></div><div class=\"sk-serial\"><div class=\"sk-item\"><div class=\"sk-estimator sk-toggleable\"><input class=\"sk-toggleable__control sk-hidden--visually\" id=\"sk-estimator-id-2\" type=\"checkbox\" ><label for=\"sk-estimator-id-2\" class=\"sk-toggleable__label sk-toggleable__label-arrow\">CustomScaler</label><div class=\"sk-toggleable__content\"><pre>CustomScaler(mean=array([ 644.62522678,  675.00465197,  887.51322647,  649.01398076,\n",
              "       1230.65511708, 3005.58275568, 3717.91194245, 3626.2871387 ,\n",
              "       3999.28166498, 4109.51322682, 2262.52644121, 1253.58153468]),\n",
              "             std=array([ 575.97684675,  570.30180631,  536.11125314,  550.22417005,\n",
              "        557.76750885,  777.03590322,  935.15224447,  949.36012986,\n",
              "        988.61001558, 1096.67397739,  671.68692054,  590.6012704 ]))</pre></div></div></div><div class=\"sk-item\"><div class=\"sk-estimator sk-toggleable\"><input class=\"sk-toggleable__control sk-hidden--visually\" id=\"sk-estimator-id-3\" type=\"checkbox\" ><label for=\"sk-estimator-id-3\" class=\"sk-toggleable__label sk-toggleable__label-arrow\">FlattenTransformer</label><div class=\"sk-toggleable__content\"><pre>FlattenTransformer()</pre></div></div></div><div class=\"sk-item\"><div class=\"sk-estimator sk-toggleable\"><input class=\"sk-toggleable__control sk-hidden--visually\" id=\"sk-estimator-id-4\" type=\"checkbox\" ><label for=\"sk-estimator-id-4\" class=\"sk-toggleable__label sk-toggleable__label-arrow\">Lasso</label><div class=\"sk-toggleable__content\"><pre>Lasso()</pre></div></div></div></div></div></div></div>"
            ],
            "text/plain": [
              "Pipeline(steps=[('scaler',\n",
              "                 CustomScaler(mean=array([ 644.62522678,  675.00465197,  887.51322647,  649.01398076,\n",
              "       1230.65511708, 3005.58275568, 3717.91194245, 3626.2871387 ,\n",
              "       3999.28166498, 4109.51322682, 2262.52644121, 1253.58153468]),\n",
              "                              std=array([ 575.97684675,  570.30180631,  536.11125314,  550.22417005,\n",
              "        557.76750885,  777.03590322,  935.15224447,  949.36012986,\n",
              "        988.61001558, 1096.67397739,  671.68692054,  590.6012704 ]))),\n",
              "                ('flatten', FlattenTransformer()), ('classifier', Lasso())])"
            ]
          },
          "execution_count": 16,
          "metadata": {},
          "output_type": "execute_result"
        }
      ],
      "source": [
        "pipe.fit(train_images,train_biomasses)"
      ]
    },
    {
      "cell_type": "code",
      "execution_count": null,
      "metadata": {
        "colab": {
          "base_uri": "https://localhost:8080/"
        },
        "id": "61dZDV4Dmx-h",
        "outputId": "7a6af5a2-846e-4cea-d263-6a498853b825"
      },
      "outputs": [
        {
          "data": {
            "text/plain": [
              "3023.555305378208"
            ]
          },
          "execution_count": 17,
          "metadata": {},
          "output_type": "execute_result"
        }
      ],
      "source": [
        "# predict\n",
        "pred_train = pipe.predict(train_images)\n",
        "\n",
        "# train mse error\n",
        "mse = mean_squared_error(train_biomasses, pred_train) \n",
        "mse\n",
        "#rmse = np.sqrt(mse)"
      ]
    },
    {
      "cell_type": "code",
      "execution_count": null,
      "metadata": {
        "colab": {
          "base_uri": "https://localhost:8080/"
        },
        "id": "T17ZqXTop6DJ",
        "outputId": "53b0c877-8094-449d-d1f5-f7c326c5158a"
      },
      "outputs": [
        {
          "data": {
            "text/plain": [
              "3961.942859655493"
            ]
          },
          "execution_count": 18,
          "metadata": {},
          "output_type": "execute_result"
        }
      ],
      "source": [
        "# predict\n",
        "pred_validate = pipe.predict(validate_images)\n",
        "\n",
        "#  validate mse error\n",
        "mse = mean_squared_error(validate_biomasses, pred_validate) \n",
        "mse\n",
        "#rmse = np.sqrt(mse)"
      ]
    },
    {
      "cell_type": "markdown",
      "metadata": {
        "id": "MjL1gMrGqSwY"
      },
      "source": [
        "### Gridsearch"
      ]
    },
    {
      "cell_type": "code",
      "execution_count": null,
      "metadata": {
        "id": "bZZ00__izp6T"
      },
      "outputs": [],
      "source": [
        "# Initiaze the hyperparameters for each dictionary\n",
        "param1 = {}\n",
        "param1['classifier'] = [LinearRegression()]\n",
        "\n",
        "param2 = {}\n",
        "param2['classifier__alpha'] = [0.1, 0.5, 1]\n",
        "param2['classifier'] = [Ridge()]\n",
        "\n",
        "param3 = {}\n",
        "param3['classifier__alpha'] = [0.1, 0.5, 1]\n",
        "param3['classifier'] = [Lasso()]\n",
        "\n",
        "param4 = {}\n",
        "param4['classifier__n_neighbors'] = [2,5,10,25,50]\n",
        "param4['classifier'] = [KNeighborsRegressor()]\n",
        "\n",
        "param5 = {}\n",
        "param5['classifier'] = [xgboost.XGBRegressor(objective='reg:squarederror', n_estimators=30, random_state=42)\n",
        "]\n",
        "\n",
        "param6 = {}\n",
        "param6['classifier__C'] = [10**-2, 10**-1, 10**0, 10**1, 10**2]\n",
        "param6['classifier__epsilon'] = [0.0,0.2,0.5,1]\n",
        "param6['classifier'] = [LinearSVR()]"
      ]
    },
    {
      "cell_type": "code",
      "execution_count": null,
      "metadata": {
        "id": "ptJz-yeCNYzM"
      },
      "outputs": [],
      "source": [
        "pipeline = pipe = Pipeline(steps=[(\"scaler\", CustomScaler(MEAN,STD)),\n",
        "                       (\"flatten\", FlattenTransformer()),\n",
        "                       (\"classifier\", xgboost.XGBRegressor())])\n",
        "params = [param1, param2, param3, param4, param5, param6] # param5\n"
      ]
    },
    {
      "cell_type": "code",
      "execution_count": null,
      "metadata": {
        "colab": {
          "background_save": true
        },
        "id": "f3NqYDHctRC5"
      },
      "outputs": [],
      "source": [
        "# Train the grid search model\n",
        "grid_search = GridSearchCV(pipeline, params, cv=3, scoring='neg_mean_squared_error').fit(train_images,train_biomasses)"
      ]
    },
    {
      "cell_type": "code",
      "execution_count": null,
      "metadata": {
        "colab": {
          "background_save": true
        },
        "id": "GKM3uy2Cth2W",
        "outputId": "d440e7a0-6c3a-4eb6-f45f-0ba0bc009a4e"
      },
      "outputs": [
        {
          "data": {
            "text/plain": [
              "{'classifier': Lasso(alpha=0.1), 'classifier__alpha': 0.1}"
            ]
          },
          "execution_count": 22,
          "metadata": {},
          "output_type": "execute_result"
        }
      ],
      "source": [
        "# Best performing model and its corresponding hyperparameters\n",
        "grid_search.best_params_"
      ]
    },
    {
      "cell_type": "code",
      "execution_count": null,
      "metadata": {
        "colab": {
          "background_save": true
        },
        "id": "Ohdx1LKttk2y",
        "outputId": "c26fa918-0617-47f6-c71e-e599265eb4d8"
      },
      "outputs": [
        {
          "name": "stdout",
          "output_type": "stream",
          "text": [
            "2802.6255438618155 52.939829465741724\n"
          ]
        }
      ],
      "source": [
        "model = grid_search.best_estimator_\n",
        "# predict\n",
        "pred = model.predict(train_images)\n",
        "\n",
        "# validate mse error\n",
        "mse = mean_squared_error(train_biomasses, pred) \n",
        "rmse = np.sqrt(mse)\n",
        "\n",
        "print(mse, rmse)"
      ]
    },
    {
      "cell_type": "code",
      "execution_count": null,
      "metadata": {
        "colab": {
          "background_save": true
        },
        "id": "3vFO06ZYISof",
        "outputId": "735f248d-aa8d-4f11-aa4e-c91a5cf03b73"
      },
      "outputs": [
        {
          "name": "stdout",
          "output_type": "stream",
          "text": [
            "3790.385611052348 61.56610764903323\n"
          ]
        }
      ],
      "source": [
        "model = grid_search.best_estimator_\n",
        "# predict\n",
        "pred = model.predict(validate_images)\n",
        "\n",
        "# validate mse error\n",
        "mse = mean_squared_error(validate_biomasses, pred) \n",
        "rmse = np.sqrt(mse)\n",
        "\n",
        "print(mse, rmse)"
      ]
    },
    {
      "cell_type": "markdown",
      "metadata": {
        "id": "pdAypOP5BkR_"
      },
      "source": [
        "### Predict GIZ Biomass"
      ]
    },
    {
      "cell_type": "code",
      "execution_count": null,
      "metadata": {
        "colab": {
          "background_save": true
        },
        "id": "5LDX4p2XBoz2"
      },
      "outputs": [],
      "source": [
        "s2_images_h5 = h5py.File(\"images_test.h5\", \"r\")"
      ]
    },
    {
      "cell_type": "code",
      "execution_count": null,
      "metadata": {
        "colab": {
          "background_save": true
        },
        "id": "PG3shy0oDS4A"
      },
      "outputs": [],
      "source": [
        "#prepare test set sentinel 2 images \n",
        "s2_images = np.array(s2_images_h5[\"images\"])\n",
        "s2_images = s2_images.transpose(0,3,1,2)\n",
        "\n",
        "# predict on giz test data\n",
        "pred_giz = model.predict(s2_images)\n",
        "\n",
        "ID_S2_pair = pd.read_csv('UniqueID-SentinelPair.csv')\n",
        "\n",
        "preds = pd.DataFrame({'Target':pred_giz}).rename_axis('S2_idx').reset_index()\n",
        "preds = ID_S2_pair.merge(preds, on='S2_idx').drop(columns=['S2_idx'])\n",
        "\n",
        "preds.to_csv('GIZ_Biomass_predictions.csv', index=False)\n",
        "\n",
        "preds"
      ]
    },
    {
      "cell_type": "code",
      "execution_count": null,
      "metadata": {
        "colab": {
          "background_save": true
        },
        "id": "F5uan3E8DpEU"
      },
      "outputs": [],
      "source": [
        "# predict on giz test data\n",
        "pred_giz = model.predict(s2_images)"
      ]
    },
    {
      "cell_type": "code",
      "execution_count": null,
      "metadata": {
        "colab": {
          "background_save": true
        },
        "id": "WD4IyJWvGgzo"
      },
      "outputs": [],
      "source": [
        "ID_S2_pair = pd.read_csv('UniqueID-SentinelPair.csv')\n",
        "\n",
        "preds = pd.DataFrame({'Target':pred_giz}).rename_axis('S2_idx').reset_index()\n",
        "preds = ID_S2_pair.merge(preds, on='S2_idx').drop(columns=['S2_idx'])"
      ]
    },
    {
      "cell_type": "code",
      "execution_count": null,
      "metadata": {
        "colab": {
          "background_save": true
        },
        "id": "_zMlJsmG-rMO"
      },
      "outputs": [],
      "source": [
        "preds.to_csv('GIZ_Biomass_predictions.csv', index=False)"
      ]
    },
    {
      "cell_type": "code",
      "execution_count": null,
      "metadata": {
        "colab": {
          "background_save": true
        },
        "id": "9AYlcFAhTiHi",
        "outputId": "d3178a8f-6550-47a6-c427-a85e37cea58e"
      },
      "outputs": [
        {
          "data": {
            "text/html": [
              "\n",
              "  <div id=\"df-4a135bc0-8093-4d5c-8549-cc231332a4c0\">\n",
              "    <div class=\"colab-df-container\">\n",
              "      <div>\n",
              "<style scoped>\n",
              "    .dataframe tbody tr th:only-of-type {\n",
              "        vertical-align: middle;\n",
              "    }\n",
              "\n",
              "    .dataframe tbody tr th {\n",
              "        vertical-align: top;\n",
              "    }\n",
              "\n",
              "    .dataframe thead th {\n",
              "        text-align: right;\n",
              "    }\n",
              "</style>\n",
              "<table border=\"1\" class=\"dataframe\">\n",
              "  <thead>\n",
              "    <tr style=\"text-align: right;\">\n",
              "      <th></th>\n",
              "      <th>ID</th>\n",
              "      <th>Target</th>\n",
              "    </tr>\n",
              "  </thead>\n",
              "  <tbody>\n",
              "    <tr>\n",
              "      <th>0</th>\n",
              "      <td>ID_1EB0DGFP07</td>\n",
              "      <td>29.028015</td>\n",
              "    </tr>\n",
              "    <tr>\n",
              "      <th>1</th>\n",
              "      <td>ID_844T2PSXTK</td>\n",
              "      <td>37.661902</td>\n",
              "    </tr>\n",
              "    <tr>\n",
              "      <th>2</th>\n",
              "      <td>ID_4MCV3S8MLN</td>\n",
              "      <td>29.158957</td>\n",
              "    </tr>\n",
              "    <tr>\n",
              "      <th>3</th>\n",
              "      <td>ID_L7441JV5F3</td>\n",
              "      <td>31.494245</td>\n",
              "    </tr>\n",
              "    <tr>\n",
              "      <th>4</th>\n",
              "      <td>ID_5GUVM4YEWZ</td>\n",
              "      <td>46.587811</td>\n",
              "    </tr>\n",
              "    <tr>\n",
              "      <th>...</th>\n",
              "      <td>...</td>\n",
              "      <td>...</td>\n",
              "    </tr>\n",
              "    <tr>\n",
              "      <th>85</th>\n",
              "      <td>ID_MEW6189J1B</td>\n",
              "      <td>70.655951</td>\n",
              "    </tr>\n",
              "    <tr>\n",
              "      <th>86</th>\n",
              "      <td>ID_TH9HRUXGTP</td>\n",
              "      <td>59.415288</td>\n",
              "    </tr>\n",
              "    <tr>\n",
              "      <th>87</th>\n",
              "      <td>ID_GPC7YS3JG8</td>\n",
              "      <td>65.011525</td>\n",
              "    </tr>\n",
              "    <tr>\n",
              "      <th>88</th>\n",
              "      <td>ID_1P7PJMPV0R</td>\n",
              "      <td>46.957217</td>\n",
              "    </tr>\n",
              "    <tr>\n",
              "      <th>89</th>\n",
              "      <td>ID_NTFSOIOEOG</td>\n",
              "      <td>81.529808</td>\n",
              "    </tr>\n",
              "  </tbody>\n",
              "</table>\n",
              "<p>90 rows × 2 columns</p>\n",
              "</div>\n",
              "      <button class=\"colab-df-convert\" onclick=\"convertToInteractive('df-4a135bc0-8093-4d5c-8549-cc231332a4c0')\"\n",
              "              title=\"Convert this dataframe to an interactive table.\"\n",
              "              style=\"display:none;\">\n",
              "        \n",
              "  <svg xmlns=\"http://www.w3.org/2000/svg\" height=\"24px\"viewBox=\"0 0 24 24\"\n",
              "       width=\"24px\">\n",
              "    <path d=\"M0 0h24v24H0V0z\" fill=\"none\"/>\n",
              "    <path d=\"M18.56 5.44l.94 2.06.94-2.06 2.06-.94-2.06-.94-.94-2.06-.94 2.06-2.06.94zm-11 1L8.5 8.5l.94-2.06 2.06-.94-2.06-.94L8.5 2.5l-.94 2.06-2.06.94zm10 10l.94 2.06.94-2.06 2.06-.94-2.06-.94-.94-2.06-.94 2.06-2.06.94z\"/><path d=\"M17.41 7.96l-1.37-1.37c-.4-.4-.92-.59-1.43-.59-.52 0-1.04.2-1.43.59L10.3 9.45l-7.72 7.72c-.78.78-.78 2.05 0 2.83L4 21.41c.39.39.9.59 1.41.59.51 0 1.02-.2 1.41-.59l7.78-7.78 2.81-2.81c.8-.78.8-2.07 0-2.86zM5.41 20L4 18.59l7.72-7.72 1.47 1.35L5.41 20z\"/>\n",
              "  </svg>\n",
              "      </button>\n",
              "      \n",
              "  <style>\n",
              "    .colab-df-container {\n",
              "      display:flex;\n",
              "      flex-wrap:wrap;\n",
              "      gap: 12px;\n",
              "    }\n",
              "\n",
              "    .colab-df-convert {\n",
              "      background-color: #E8F0FE;\n",
              "      border: none;\n",
              "      border-radius: 50%;\n",
              "      cursor: pointer;\n",
              "      display: none;\n",
              "      fill: #1967D2;\n",
              "      height: 32px;\n",
              "      padding: 0 0 0 0;\n",
              "      width: 32px;\n",
              "    }\n",
              "\n",
              "    .colab-df-convert:hover {\n",
              "      background-color: #E2EBFA;\n",
              "      box-shadow: 0px 1px 2px rgba(60, 64, 67, 0.3), 0px 1px 3px 1px rgba(60, 64, 67, 0.15);\n",
              "      fill: #174EA6;\n",
              "    }\n",
              "\n",
              "    [theme=dark] .colab-df-convert {\n",
              "      background-color: #3B4455;\n",
              "      fill: #D2E3FC;\n",
              "    }\n",
              "\n",
              "    [theme=dark] .colab-df-convert:hover {\n",
              "      background-color: #434B5C;\n",
              "      box-shadow: 0px 1px 3px 1px rgba(0, 0, 0, 0.15);\n",
              "      filter: drop-shadow(0px 1px 2px rgba(0, 0, 0, 0.3));\n",
              "      fill: #FFFFFF;\n",
              "    }\n",
              "  </style>\n",
              "\n",
              "      <script>\n",
              "        const buttonEl =\n",
              "          document.querySelector('#df-4a135bc0-8093-4d5c-8549-cc231332a4c0 button.colab-df-convert');\n",
              "        buttonEl.style.display =\n",
              "          google.colab.kernel.accessAllowed ? 'block' : 'none';\n",
              "\n",
              "        async function convertToInteractive(key) {\n",
              "          const element = document.querySelector('#df-4a135bc0-8093-4d5c-8549-cc231332a4c0');\n",
              "          const dataTable =\n",
              "            await google.colab.kernel.invokeFunction('convertToInteractive',\n",
              "                                                     [key], {});\n",
              "          if (!dataTable) return;\n",
              "\n",
              "          const docLinkHtml = 'Like what you see? Visit the ' +\n",
              "            '<a target=\"_blank\" href=https://colab.research.google.com/notebooks/data_table.ipynb>data table notebook</a>'\n",
              "            + ' to learn more about interactive tables.';\n",
              "          element.innerHTML = '';\n",
              "          dataTable['output_type'] = 'display_data';\n",
              "          await google.colab.output.renderOutput(dataTable, element);\n",
              "          const docLink = document.createElement('div');\n",
              "          docLink.innerHTML = docLinkHtml;\n",
              "          element.appendChild(docLink);\n",
              "        }\n",
              "      </script>\n",
              "    </div>\n",
              "  </div>\n",
              "  "
            ],
            "text/plain": [
              "               ID     Target\n",
              "0   ID_1EB0DGFP07  29.028015\n",
              "1   ID_844T2PSXTK  37.661902\n",
              "2   ID_4MCV3S8MLN  29.158957\n",
              "3   ID_L7441JV5F3  31.494245\n",
              "4   ID_5GUVM4YEWZ  46.587811\n",
              "..            ...        ...\n",
              "85  ID_MEW6189J1B  70.655951\n",
              "86  ID_TH9HRUXGTP  59.415288\n",
              "87  ID_GPC7YS3JG8  65.011525\n",
              "88  ID_1P7PJMPV0R  46.957217\n",
              "89  ID_NTFSOIOEOG  81.529808\n",
              "\n",
              "[90 rows x 2 columns]"
            ]
          },
          "execution_count": 30,
          "metadata": {},
          "output_type": "execute_result"
        }
      ],
      "source": [
        "preds"
      ]
    },
    {
      "cell_type": "code",
      "execution_count": null,
      "metadata": {
        "colab": {
          "background_save": true
        },
        "id": "p5xT_gDHZAAO"
      },
      "outputs": [],
      "source": [
        "from xgboost import XGBRegressor\n",
        "from sklearn.metrics import mean_squared_error\n",
        "\n",
        "# create an XGBRegressor instance\n",
        "xgb = XGBRegressor()\n",
        "\n",
        "# fit the model on training data\n",
        "xgb.fit(train_images, train_biomasses)\n",
        "\n",
        "# use the trained model to make predictions on test data\n",
        "test_predictions = xgb.predict(test_images)\n",
        "\n",
        "# calculate mean squared error of the predictions\n",
        "mse = mean_squared_error(test_biomasses, test_predictions)\n",
        "print(\"Mean squared error:\", mse)\n"
      ]
    }
  ],
  "metadata": {
    "colab": {
      "provenance": [],
      "include_colab_link": true
    },
    "kernelspec": {
      "display_name": "Python 3",
      "language": "python",
      "name": "python3"
    },
    "language_info": {
      "codemirror_mode": {
        "name": "ipython",
        "version": 3
      },
      "file_extension": ".py",
      "mimetype": "text/x-python",
      "name": "python",
      "nbconvert_exporter": "python",
      "pygments_lexer": "ipython3",
      "version": "3.9.10"
    }
  },
  "nbformat": 4,
  "nbformat_minor": 0
}